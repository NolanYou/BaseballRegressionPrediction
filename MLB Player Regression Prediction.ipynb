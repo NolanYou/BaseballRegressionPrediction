{
 "cells": [
  {
   "cell_type": "code",
   "execution_count": 161,
   "metadata": {
    "collapsed": true
   },
   "outputs": [],
   "source": [
    "import pybaseball as pyball\n",
    "from pybaseball import schedule_and_record\n",
    "import numpy as np\n",
    "import pandas as pd\n",
    "import matplotlib.pyplot as plt\n",
    "from pybaseball import statcast\n",
    "from pybaseball import batting_stats\n",
    "from pybaseball import team_batting\n",
    "from pybaseball import cache\n",
    "from sklearn.model_selection import train_test_split\n",
    "from sklearn.metrics import accuracy_score\n",
    "\n",
    "\n"
   ]
  },
  {
   "cell_type": "code",
   "execution_count": 162,
   "outputs": [],
   "source": [
    "batters_before = batting_stats(2022, qual=200)"
   ],
   "metadata": {
    "collapsed": false
   }
  },
  {
   "cell_type": "code",
   "execution_count": 163,
   "outputs": [
    {
     "data": {
      "text/plain": "      IDfg  Season               Name   Team  Age    G   AB   PA    H   1B  \\\n0    15640    2022        Aaron Judge    NYY   30  157  570  696  177   87   \n7    11493    2022      Manny Machado    SDP   29  150  578  644  172  102   \n8     9777    2022      Nolan Arenado    STL   31  148  557  620  163   90   \n6     5361    2022    Freddie Freeman    LAD   32  159  612  708  199  129   \n2     9218    2022   Paul Goldschmidt    STL   34  151  561  651  178  102   \n..     ...     ...                ...    ...  ...  ...  ...  ...  ...  ...   \n328  11200    2022       Kole Calhoun    TEX   34  125  388  424   76   49   \n346  10071    2022    Jonathan Villar  - - -   31   59  202  220   42   31   \n270  11680    2022         Elias Diaz    COL   31  105  351  381   80   51   \n297   1744    2022     Miguel Cabrera    DET   39  112  397  433  101   86   \n343   3142    2022  Robinson Chirinos    BAL   38   67  195  220   35   22   \n\n     ...  maxEV  HardHit  HardHit%  Events  CStr%   CSW%    xBA   xSLG  xwOBA  \\\n0    ...  118.4      246     0.609     404  0.169  0.287    NaN    NaN    NaN   \n7    ...  112.4      219     0.490     447  0.126  0.243    NaN    NaN    NaN   \n8    ...  111.4      190     0.389     489  0.155  0.241    NaN    NaN    NaN   \n6    ...  112.3      248     0.480     517  0.122  0.206  0.313  0.538  0.403   \n2    ...  112.3      200     0.469     426  0.196  0.295  0.261  0.482  0.367   \n..   ...    ...      ...       ...     ...    ...    ...    ...    ...    ...   \n328  ...  109.9      123     0.482     255  0.116  0.301    NaN    NaN    NaN   \n346  ...  109.5       58     0.397     146  0.114  0.268    NaN    NaN    NaN   \n270  ...  111.8      107     0.393     272  0.134  0.244    NaN    NaN    NaN   \n297  ...  111.0      115     0.382     301  0.149  0.270    NaN    NaN    NaN   \n343  ...  107.6       43     0.331     130  0.138  0.298  0.168  0.281  0.245   \n\n     L-WAR  \n0     11.4  \n7      6.7  \n8      7.2  \n6      6.6  \n2      7.9  \n..     ...  \n328   -1.1  \n346   -0.7  \n270   -1.5  \n297   -1.5  \n343   -1.6  \n\n[358 rows x 320 columns]",
      "text/html": "<div>\n<style scoped>\n    .dataframe tbody tr th:only-of-type {\n        vertical-align: middle;\n    }\n\n    .dataframe tbody tr th {\n        vertical-align: top;\n    }\n\n    .dataframe thead th {\n        text-align: right;\n    }\n</style>\n<table border=\"1\" class=\"dataframe\">\n  <thead>\n    <tr style=\"text-align: right;\">\n      <th></th>\n      <th>IDfg</th>\n      <th>Season</th>\n      <th>Name</th>\n      <th>Team</th>\n      <th>Age</th>\n      <th>G</th>\n      <th>AB</th>\n      <th>PA</th>\n      <th>H</th>\n      <th>1B</th>\n      <th>...</th>\n      <th>maxEV</th>\n      <th>HardHit</th>\n      <th>HardHit%</th>\n      <th>Events</th>\n      <th>CStr%</th>\n      <th>CSW%</th>\n      <th>xBA</th>\n      <th>xSLG</th>\n      <th>xwOBA</th>\n      <th>L-WAR</th>\n    </tr>\n  </thead>\n  <tbody>\n    <tr>\n      <th>0</th>\n      <td>15640</td>\n      <td>2022</td>\n      <td>Aaron Judge</td>\n      <td>NYY</td>\n      <td>30</td>\n      <td>157</td>\n      <td>570</td>\n      <td>696</td>\n      <td>177</td>\n      <td>87</td>\n      <td>...</td>\n      <td>118.4</td>\n      <td>246</td>\n      <td>0.609</td>\n      <td>404</td>\n      <td>0.169</td>\n      <td>0.287</td>\n      <td>NaN</td>\n      <td>NaN</td>\n      <td>NaN</td>\n      <td>11.4</td>\n    </tr>\n    <tr>\n      <th>7</th>\n      <td>11493</td>\n      <td>2022</td>\n      <td>Manny Machado</td>\n      <td>SDP</td>\n      <td>29</td>\n      <td>150</td>\n      <td>578</td>\n      <td>644</td>\n      <td>172</td>\n      <td>102</td>\n      <td>...</td>\n      <td>112.4</td>\n      <td>219</td>\n      <td>0.490</td>\n      <td>447</td>\n      <td>0.126</td>\n      <td>0.243</td>\n      <td>NaN</td>\n      <td>NaN</td>\n      <td>NaN</td>\n      <td>6.7</td>\n    </tr>\n    <tr>\n      <th>8</th>\n      <td>9777</td>\n      <td>2022</td>\n      <td>Nolan Arenado</td>\n      <td>STL</td>\n      <td>31</td>\n      <td>148</td>\n      <td>557</td>\n      <td>620</td>\n      <td>163</td>\n      <td>90</td>\n      <td>...</td>\n      <td>111.4</td>\n      <td>190</td>\n      <td>0.389</td>\n      <td>489</td>\n      <td>0.155</td>\n      <td>0.241</td>\n      <td>NaN</td>\n      <td>NaN</td>\n      <td>NaN</td>\n      <td>7.2</td>\n    </tr>\n    <tr>\n      <th>6</th>\n      <td>5361</td>\n      <td>2022</td>\n      <td>Freddie Freeman</td>\n      <td>LAD</td>\n      <td>32</td>\n      <td>159</td>\n      <td>612</td>\n      <td>708</td>\n      <td>199</td>\n      <td>129</td>\n      <td>...</td>\n      <td>112.3</td>\n      <td>248</td>\n      <td>0.480</td>\n      <td>517</td>\n      <td>0.122</td>\n      <td>0.206</td>\n      <td>0.313</td>\n      <td>0.538</td>\n      <td>0.403</td>\n      <td>6.6</td>\n    </tr>\n    <tr>\n      <th>2</th>\n      <td>9218</td>\n      <td>2022</td>\n      <td>Paul Goldschmidt</td>\n      <td>STL</td>\n      <td>34</td>\n      <td>151</td>\n      <td>561</td>\n      <td>651</td>\n      <td>178</td>\n      <td>102</td>\n      <td>...</td>\n      <td>112.3</td>\n      <td>200</td>\n      <td>0.469</td>\n      <td>426</td>\n      <td>0.196</td>\n      <td>0.295</td>\n      <td>0.261</td>\n      <td>0.482</td>\n      <td>0.367</td>\n      <td>7.9</td>\n    </tr>\n    <tr>\n      <th>...</th>\n      <td>...</td>\n      <td>...</td>\n      <td>...</td>\n      <td>...</td>\n      <td>...</td>\n      <td>...</td>\n      <td>...</td>\n      <td>...</td>\n      <td>...</td>\n      <td>...</td>\n      <td>...</td>\n      <td>...</td>\n      <td>...</td>\n      <td>...</td>\n      <td>...</td>\n      <td>...</td>\n      <td>...</td>\n      <td>...</td>\n      <td>...</td>\n      <td>...</td>\n      <td>...</td>\n    </tr>\n    <tr>\n      <th>328</th>\n      <td>11200</td>\n      <td>2022</td>\n      <td>Kole Calhoun</td>\n      <td>TEX</td>\n      <td>34</td>\n      <td>125</td>\n      <td>388</td>\n      <td>424</td>\n      <td>76</td>\n      <td>49</td>\n      <td>...</td>\n      <td>109.9</td>\n      <td>123</td>\n      <td>0.482</td>\n      <td>255</td>\n      <td>0.116</td>\n      <td>0.301</td>\n      <td>NaN</td>\n      <td>NaN</td>\n      <td>NaN</td>\n      <td>-1.1</td>\n    </tr>\n    <tr>\n      <th>346</th>\n      <td>10071</td>\n      <td>2022</td>\n      <td>Jonathan Villar</td>\n      <td>- - -</td>\n      <td>31</td>\n      <td>59</td>\n      <td>202</td>\n      <td>220</td>\n      <td>42</td>\n      <td>31</td>\n      <td>...</td>\n      <td>109.5</td>\n      <td>58</td>\n      <td>0.397</td>\n      <td>146</td>\n      <td>0.114</td>\n      <td>0.268</td>\n      <td>NaN</td>\n      <td>NaN</td>\n      <td>NaN</td>\n      <td>-0.7</td>\n    </tr>\n    <tr>\n      <th>270</th>\n      <td>11680</td>\n      <td>2022</td>\n      <td>Elias Diaz</td>\n      <td>COL</td>\n      <td>31</td>\n      <td>105</td>\n      <td>351</td>\n      <td>381</td>\n      <td>80</td>\n      <td>51</td>\n      <td>...</td>\n      <td>111.8</td>\n      <td>107</td>\n      <td>0.393</td>\n      <td>272</td>\n      <td>0.134</td>\n      <td>0.244</td>\n      <td>NaN</td>\n      <td>NaN</td>\n      <td>NaN</td>\n      <td>-1.5</td>\n    </tr>\n    <tr>\n      <th>297</th>\n      <td>1744</td>\n      <td>2022</td>\n      <td>Miguel Cabrera</td>\n      <td>DET</td>\n      <td>39</td>\n      <td>112</td>\n      <td>397</td>\n      <td>433</td>\n      <td>101</td>\n      <td>86</td>\n      <td>...</td>\n      <td>111.0</td>\n      <td>115</td>\n      <td>0.382</td>\n      <td>301</td>\n      <td>0.149</td>\n      <td>0.270</td>\n      <td>NaN</td>\n      <td>NaN</td>\n      <td>NaN</td>\n      <td>-1.5</td>\n    </tr>\n    <tr>\n      <th>343</th>\n      <td>3142</td>\n      <td>2022</td>\n      <td>Robinson Chirinos</td>\n      <td>BAL</td>\n      <td>38</td>\n      <td>67</td>\n      <td>195</td>\n      <td>220</td>\n      <td>35</td>\n      <td>22</td>\n      <td>...</td>\n      <td>107.6</td>\n      <td>43</td>\n      <td>0.331</td>\n      <td>130</td>\n      <td>0.138</td>\n      <td>0.298</td>\n      <td>0.168</td>\n      <td>0.281</td>\n      <td>0.245</td>\n      <td>-1.6</td>\n    </tr>\n  </tbody>\n</table>\n<p>358 rows × 320 columns</p>\n</div>"
     },
     "execution_count": 163,
     "metadata": {},
     "output_type": "execute_result"
    }
   ],
   "source": [
    "batters_before"
   ],
   "metadata": {
    "collapsed": false
   }
  },
  {
   "cell_type": "code",
   "execution_count": 164,
   "outputs": [],
   "source": [
    "batters = batting_stats(2023, qual = 200)"
   ],
   "metadata": {
    "collapsed": false
   }
  },
  {
   "cell_type": "markdown",
   "source": [],
   "metadata": {
    "collapsed": false
   }
  },
  {
   "cell_type": "code",
   "execution_count": 165,
   "outputs": [
    {
     "data": {
      "text/plain": "      IDfg  Season         Name Team  Age   G   AB   PA   H  1B  ...  maxEV  \\\n327  12532    2023  Kolten Wong  SEA   32  67  194  216  32  24  ...  107.9   \n\n     HardHit  HardHit%  Events  CStr%   CSW%  xBA  xSLG  xwOBA  L-WAR  \n327       38     0.253     150  0.158  0.247  NaN   NaN    NaN   -1.0  \n\n[1 rows x 320 columns]",
      "text/html": "<div>\n<style scoped>\n    .dataframe tbody tr th:only-of-type {\n        vertical-align: middle;\n    }\n\n    .dataframe tbody tr th {\n        vertical-align: top;\n    }\n\n    .dataframe thead th {\n        text-align: right;\n    }\n</style>\n<table border=\"1\" class=\"dataframe\">\n  <thead>\n    <tr style=\"text-align: right;\">\n      <th></th>\n      <th>IDfg</th>\n      <th>Season</th>\n      <th>Name</th>\n      <th>Team</th>\n      <th>Age</th>\n      <th>G</th>\n      <th>AB</th>\n      <th>PA</th>\n      <th>H</th>\n      <th>1B</th>\n      <th>...</th>\n      <th>maxEV</th>\n      <th>HardHit</th>\n      <th>HardHit%</th>\n      <th>Events</th>\n      <th>CStr%</th>\n      <th>CSW%</th>\n      <th>xBA</th>\n      <th>xSLG</th>\n      <th>xwOBA</th>\n      <th>L-WAR</th>\n    </tr>\n  </thead>\n  <tbody>\n    <tr>\n      <th>327</th>\n      <td>12532</td>\n      <td>2023</td>\n      <td>Kolten Wong</td>\n      <td>SEA</td>\n      <td>32</td>\n      <td>67</td>\n      <td>194</td>\n      <td>216</td>\n      <td>32</td>\n      <td>24</td>\n      <td>...</td>\n      <td>107.9</td>\n      <td>38</td>\n      <td>0.253</td>\n      <td>150</td>\n      <td>0.158</td>\n      <td>0.247</td>\n      <td>NaN</td>\n      <td>NaN</td>\n      <td>NaN</td>\n      <td>-1.0</td>\n    </tr>\n  </tbody>\n</table>\n<p>1 rows × 320 columns</p>\n</div>"
     },
     "execution_count": 165,
     "metadata": {},
     "output_type": "execute_result"
    }
   ],
   "source": [
    "batters[batters['IDfg'] == 12532]"
   ],
   "metadata": {
    "collapsed": false
   }
  },
  {
   "cell_type": "code",
   "execution_count": 166,
   "outputs": [],
   "source": [
    "bat2022to2023 = pd.merge(left = batters[['IDfg', 'Name', 'WAR']], right = batters_before[['IDfg', 'WAR']], on = \"IDfg\", how = \"inner\").rename(columns = {\"WAR_x\" : \"WAR_2023\", \"WAR_y\" : \"WAR_2022\"})"
   ],
   "metadata": {
    "collapsed": false
   }
  },
  {
   "cell_type": "code",
   "execution_count": 167,
   "outputs": [],
   "source": [
    "#filter so that we find all seasons where a batter's war changes greater than 0.1 compared to a previous season. Arbitrary cutoff at 0.7 to ensure that we don't many people's seasons fluctuating by small amounts\n",
    "outliers = bat2022to2023[(abs(bat2022to2023['WAR_2023'] - bat2022to2023['WAR_2022']) > abs(bat2022to2023['WAR_2022']) * 0.1) & (bat2022to2023['WAR_2022'] >= 0.7)]"
   ],
   "metadata": {
    "collapsed": false
   }
  },
  {
   "cell_type": "code",
   "execution_count": 168,
   "outputs": [],
   "source": [
    "#identify who improved and turn into a serial\n",
    "improvers = outliers[outliers['WAR_2023'] > outliers['WAR_2022']]['IDfg']\n",
    "regressors = outliers[outliers['WAR_2023'] < outliers['WAR_2022']]['IDfg']"
   ],
   "metadata": {
    "collapsed": false
   }
  },
  {
   "cell_type": "code",
   "execution_count": 169,
   "outputs": [],
   "source": [
    "#label in original dataset who improved/regressed\n",
    "batters_before.loc[batters_before['IDfg'].isin(improvers), 'regressor'] = 1\n",
    "batters_before.loc[batters_before['IDfg'].isin(regressors), 'regressor'] = 2"
   ],
   "metadata": {
    "collapsed": false
   }
  },
  {
   "cell_type": "code",
   "execution_count": 170,
   "outputs": [],
   "source": [
    "#split labeled data into features and labels\n",
    "x = batters_before.drop(\"regressor\", axis=1).select_dtypes(include=['number']).iloc[:,3:].dropna(axis=1)\n",
    "\n",
    "y = batters_before['regressor'].fillna(0)"
   ],
   "metadata": {
    "collapsed": false
   }
  },
  {
   "cell_type": "code",
   "execution_count": 171,
   "outputs": [],
   "source": [
    "\n",
    "\n",
    "x_train, x_test, y_train, y_test = train_test_split(x, y, test_size=0.2, random_state=42)\n"
   ],
   "metadata": {
    "collapsed": false
   }
  },
  {
   "cell_type": "code",
   "execution_count": 172,
   "outputs": [
    {
     "data": {
      "text/plain": "XGBClassifier(base_score=None, booster=None, callbacks=None,\n              colsample_bylevel=None, colsample_bynode=None,\n              colsample_bytree=None, early_stopping_rounds=None,\n              enable_categorical=False, eval_metric=None, feature_types=None,\n              gamma=None, gpu_id=None, grow_policy=None, importance_type=None,\n              interaction_constraints=None, learning_rate=None, max_bin=None,\n              max_cat_threshold=None, max_cat_to_onehot=None,\n              max_delta_step=None, max_depth=None, max_leaves=None,\n              min_child_weight=None, missing=nan, monotone_constraints=None,\n              n_estimators=100, n_jobs=None, num_class=3,\n              num_parallel_tree=None, objective='multi:softmax', ...)",
      "text/html": "<style>#sk-container-id-3 {color: black;}#sk-container-id-3 pre{padding: 0;}#sk-container-id-3 div.sk-toggleable {background-color: white;}#sk-container-id-3 label.sk-toggleable__label {cursor: pointer;display: block;width: 100%;margin-bottom: 0;padding: 0.3em;box-sizing: border-box;text-align: center;}#sk-container-id-3 label.sk-toggleable__label-arrow:before {content: \"▸\";float: left;margin-right: 0.25em;color: #696969;}#sk-container-id-3 label.sk-toggleable__label-arrow:hover:before {color: black;}#sk-container-id-3 div.sk-estimator:hover label.sk-toggleable__label-arrow:before {color: black;}#sk-container-id-3 div.sk-toggleable__content {max-height: 0;max-width: 0;overflow: hidden;text-align: left;background-color: #f0f8ff;}#sk-container-id-3 div.sk-toggleable__content pre {margin: 0.2em;color: black;border-radius: 0.25em;background-color: #f0f8ff;}#sk-container-id-3 input.sk-toggleable__control:checked~div.sk-toggleable__content {max-height: 200px;max-width: 100%;overflow: auto;}#sk-container-id-3 input.sk-toggleable__control:checked~label.sk-toggleable__label-arrow:before {content: \"▾\";}#sk-container-id-3 div.sk-estimator input.sk-toggleable__control:checked~label.sk-toggleable__label {background-color: #d4ebff;}#sk-container-id-3 div.sk-label input.sk-toggleable__control:checked~label.sk-toggleable__label {background-color: #d4ebff;}#sk-container-id-3 input.sk-hidden--visually {border: 0;clip: rect(1px 1px 1px 1px);clip: rect(1px, 1px, 1px, 1px);height: 1px;margin: -1px;overflow: hidden;padding: 0;position: absolute;width: 1px;}#sk-container-id-3 div.sk-estimator {font-family: monospace;background-color: #f0f8ff;border: 1px dotted black;border-radius: 0.25em;box-sizing: border-box;margin-bottom: 0.5em;}#sk-container-id-3 div.sk-estimator:hover {background-color: #d4ebff;}#sk-container-id-3 div.sk-parallel-item::after {content: \"\";width: 100%;border-bottom: 1px solid gray;flex-grow: 1;}#sk-container-id-3 div.sk-label:hover label.sk-toggleable__label {background-color: #d4ebff;}#sk-container-id-3 div.sk-serial::before {content: \"\";position: absolute;border-left: 1px solid gray;box-sizing: border-box;top: 0;bottom: 0;left: 50%;z-index: 0;}#sk-container-id-3 div.sk-serial {display: flex;flex-direction: column;align-items: center;background-color: white;padding-right: 0.2em;padding-left: 0.2em;position: relative;}#sk-container-id-3 div.sk-item {position: relative;z-index: 1;}#sk-container-id-3 div.sk-parallel {display: flex;align-items: stretch;justify-content: center;background-color: white;position: relative;}#sk-container-id-3 div.sk-item::before, #sk-container-id-3 div.sk-parallel-item::before {content: \"\";position: absolute;border-left: 1px solid gray;box-sizing: border-box;top: 0;bottom: 0;left: 50%;z-index: -1;}#sk-container-id-3 div.sk-parallel-item {display: flex;flex-direction: column;z-index: 1;position: relative;background-color: white;}#sk-container-id-3 div.sk-parallel-item:first-child::after {align-self: flex-end;width: 50%;}#sk-container-id-3 div.sk-parallel-item:last-child::after {align-self: flex-start;width: 50%;}#sk-container-id-3 div.sk-parallel-item:only-child::after {width: 0;}#sk-container-id-3 div.sk-dashed-wrapped {border: 1px dashed gray;margin: 0 0.4em 0.5em 0.4em;box-sizing: border-box;padding-bottom: 0.4em;background-color: white;}#sk-container-id-3 div.sk-label label {font-family: monospace;font-weight: bold;display: inline-block;line-height: 1.2em;}#sk-container-id-3 div.sk-label-container {text-align: center;}#sk-container-id-3 div.sk-container {/* jupyter's `normalize.less` sets `[hidden] { display: none; }` but bootstrap.min.css set `[hidden] { display: none !important; }` so we also need the `!important` here to be able to override the default hidden behavior on the sphinx rendered scikit-learn.org. See: https://github.com/scikit-learn/scikit-learn/issues/21755 */display: inline-block !important;position: relative;}#sk-container-id-3 div.sk-text-repr-fallback {display: none;}</style><div id=\"sk-container-id-3\" class=\"sk-top-container\"><div class=\"sk-text-repr-fallback\"><pre>XGBClassifier(base_score=None, booster=None, callbacks=None,\n              colsample_bylevel=None, colsample_bynode=None,\n              colsample_bytree=None, early_stopping_rounds=None,\n              enable_categorical=False, eval_metric=None, feature_types=None,\n              gamma=None, gpu_id=None, grow_policy=None, importance_type=None,\n              interaction_constraints=None, learning_rate=None, max_bin=None,\n              max_cat_threshold=None, max_cat_to_onehot=None,\n              max_delta_step=None, max_depth=None, max_leaves=None,\n              min_child_weight=None, missing=nan, monotone_constraints=None,\n              n_estimators=100, n_jobs=None, num_class=3,\n              num_parallel_tree=None, objective=&#x27;multi:softmax&#x27;, ...)</pre><b>In a Jupyter environment, please rerun this cell to show the HTML representation or trust the notebook. <br />On GitHub, the HTML representation is unable to render, please try loading this page with nbviewer.org.</b></div><div class=\"sk-container\" hidden><div class=\"sk-item\"><div class=\"sk-estimator sk-toggleable\"><input class=\"sk-toggleable__control sk-hidden--visually\" id=\"sk-estimator-id-3\" type=\"checkbox\" checked><label for=\"sk-estimator-id-3\" class=\"sk-toggleable__label sk-toggleable__label-arrow\">XGBClassifier</label><div class=\"sk-toggleable__content\"><pre>XGBClassifier(base_score=None, booster=None, callbacks=None,\n              colsample_bylevel=None, colsample_bynode=None,\n              colsample_bytree=None, early_stopping_rounds=None,\n              enable_categorical=False, eval_metric=None, feature_types=None,\n              gamma=None, gpu_id=None, grow_policy=None, importance_type=None,\n              interaction_constraints=None, learning_rate=None, max_bin=None,\n              max_cat_threshold=None, max_cat_to_onehot=None,\n              max_delta_step=None, max_depth=None, max_leaves=None,\n              min_child_weight=None, missing=nan, monotone_constraints=None,\n              n_estimators=100, n_jobs=None, num_class=3,\n              num_parallel_tree=None, objective=&#x27;multi:softmax&#x27;, ...)</pre></div></div></div></div></div>"
     },
     "execution_count": 172,
     "metadata": {},
     "output_type": "execute_result"
    }
   ],
   "source": [
    "import xgboost as xgb\n",
    "\n",
    "# Create an XGBoost model instance\n",
    "model = xgb.XGBClassifier(objective='multi:softmax', num_class=3)  # For classification tasks; use xgb.XGBRegressor() for regression\n",
    "\n",
    "# Fit the model to the training data\n",
    "model.fit(x_train, y_train)"
   ],
   "metadata": {
    "collapsed": false
   }
  },
  {
   "cell_type": "code",
   "execution_count": 173,
   "outputs": [
    {
     "name": "stdout",
     "output_type": "stream",
     "text": [
      "Accuracy: 0.7083333333333334\n"
     ]
    }
   ],
   "source": [
    "\n",
    "y_pred = model.predict(x_test)\n",
    "\n",
    "accuracy = accuracy_score(y_test, y_pred)\n",
    "\n",
    "print(\"Accuracy:\", accuracy)"
   ],
   "metadata": {
    "collapsed": false
   }
  }
 ],
 "metadata": {
  "kernelspec": {
   "display_name": "Python 3",
   "language": "python",
   "name": "python3"
  },
  "language_info": {
   "codemirror_mode": {
    "name": "ipython",
    "version": 2
   },
   "file_extension": ".py",
   "mimetype": "text/x-python",
   "name": "python",
   "nbconvert_exporter": "python",
   "pygments_lexer": "ipython2",
   "version": "2.7.6"
  }
 },
 "nbformat": 4,
 "nbformat_minor": 0
}
